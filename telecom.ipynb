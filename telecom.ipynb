{
  "nbformat": 4,
  "nbformat_minor": 0,
  "metadata": {
    "colab": {
      "provenance": []
    },
    "kernelspec": {
      "name": "python3",
      "display_name": "Python 3"
    },
    "language_info": {
      "name": "python"
    }
  },
  "cells": [
    {
      "cell_type": "markdown",
      "source": [
        "# 📌 Extracción"
      ],
      "metadata": {
        "id": "lV95UuUY9NJS"
      }
    },
    {
      "cell_type": "markdown",
      "source": [
        "En esta primera etapa se realizó la conexión a la fuente de datos a través de una API pública en GitHub, utilizando Python. El archivo proporcionado contenía información en formato JSON sobre los clientes de Telecom X."
      ],
      "metadata": {
        "id": "NgFZkrPt9PqH"
      }
    },
    {
      "cell_type": "markdown",
      "source": [
        "🔹 Objetivos:\n",
        "Conectar a la API.\n",
        "\n",
        "Obtener y cargar los datos a un DataFrame de Pandas.\n",
        "\n",
        "Validar que la carga se haya realizado correctamente."
      ],
      "metadata": {
        "id": "fF-4Alr49SAQ"
      }
    },
    {
      "cell_type": "code",
      "execution_count": null,
      "metadata": {
        "id": "IT1aFiif6S8_"
      },
      "outputs": [],
      "source": [
        "# Paso 1: Instalar librerías necesarias (por si no están)\n",
        "!pip install -q pandas requests"
      ]
    },
    {
      "cell_type": "code",
      "source": [
        "import pandas as pd\n",
        "import requests"
      ],
      "metadata": {
        "id": "NGoNfUR79OIy"
      },
      "execution_count": null,
      "outputs": []
    },
    {
      "cell_type": "code",
      "source": [
        "# Carga de datos desde la API (formato RAW en GitHub)\n",
        "url = 'https://raw.githubusercontent.com/ingridcristh/challenge2-data-science-LATAM/main/TelecomX_Data.json'\n",
        "response = requests.get(url)"
      ],
      "metadata": {
        "id": "2mvvMOTL6fCZ"
      },
      "execution_count": null,
      "outputs": []
    },
    {
      "cell_type": "code",
      "source": [
        "# Carga y verificación de los datos\n",
        "if response.status_code == 200:\n",
        "    data_json = response.json()\n",
        "    df = pd.DataFrame(data_json)\n",
        "    print(\"✅ Datos cargados correctamente.\")\n",
        "else:\n",
        "    print(f\"❌ Error al cargar los datos: {response.status_code}\")"
      ],
      "metadata": {
        "colab": {
          "base_uri": "https://localhost:8080/"
        },
        "id": "DS8oXGLY9hXB",
        "outputId": "eacf5a5c-37b8-4e7c-8aa9-9aee39b0a99f"
      },
      "execution_count": null,
      "outputs": [
        {
          "output_type": "stream",
          "name": "stdout",
          "text": [
            "✅ Datos cargados correctamente.\n"
          ]
        }
      ]
    },
    {
      "cell_type": "code",
      "source": [
        "# Expandir columnas anidadas con json_normalize\n",
        "from pandas import json_normalize\n",
        "\n",
        "# Expandir cada columna anidada\n",
        "df_expanded = pd.concat([\n",
        "    df[['customerID', 'Churn']],  # columnas simples\n",
        "    json_normalize(df['customer']),\n",
        "    json_normalize(df['phone']),\n",
        "    json_normalize(df['internet']),\n",
        "    json_normalize(df['account'])\n",
        "], axis=1)\n",
        "\n",
        "# Mostrar las primeras filas\n",
        "display(df_expanded.head())\n"
      ],
      "metadata": {
        "colab": {
          "base_uri": "https://localhost:8080/",
          "height": 342
        },
        "id": "PS5uRjJy90-Z",
        "outputId": "78863422-cf25-498d-9719-9c984883bead"
      },
      "execution_count": null,
      "outputs": [
        {
          "output_type": "display_data",
          "data": {
            "text/plain": [
              "   customerID Churn  gender  SeniorCitizen Partner Dependents  tenure  \\\n",
              "0  0002-ORFBO    No  Female              0     Yes        Yes       9   \n",
              "1  0003-MKNFE    No    Male              0      No         No       9   \n",
              "2  0004-TLHLJ   Yes    Male              0      No         No       4   \n",
              "3  0011-IGKFF   Yes    Male              1     Yes         No      13   \n",
              "4  0013-EXCHZ   Yes  Female              1     Yes         No       3   \n",
              "\n",
              "  PhoneService MultipleLines InternetService  ... OnlineBackup  \\\n",
              "0          Yes            No             DSL  ...          Yes   \n",
              "1          Yes           Yes             DSL  ...           No   \n",
              "2          Yes            No     Fiber optic  ...           No   \n",
              "3          Yes            No     Fiber optic  ...          Yes   \n",
              "4          Yes            No     Fiber optic  ...           No   \n",
              "\n",
              "  DeviceProtection TechSupport StreamingTV StreamingMovies        Contract  \\\n",
              "0               No         Yes         Yes              No        One year   \n",
              "1               No          No          No             Yes  Month-to-month   \n",
              "2              Yes          No          No              No  Month-to-month   \n",
              "3              Yes          No         Yes             Yes  Month-to-month   \n",
              "4               No         Yes         Yes              No  Month-to-month   \n",
              "\n",
              "  PaperlessBilling     PaymentMethod Charges.Monthly  Charges.Total  \n",
              "0              Yes      Mailed check            65.6          593.3  \n",
              "1               No      Mailed check            59.9          542.4  \n",
              "2              Yes  Electronic check            73.9         280.85  \n",
              "3              Yes  Electronic check            98.0        1237.85  \n",
              "4              Yes      Mailed check            83.9          267.4  \n",
              "\n",
              "[5 rows x 21 columns]"
            ],
            "text/html": [
              "\n",
              "  <div id=\"df-88053fed-3119-49e6-98bf-98b19e853ee6\" class=\"colab-df-container\">\n",
              "    <div>\n",
              "<style scoped>\n",
              "    .dataframe tbody tr th:only-of-type {\n",
              "        vertical-align: middle;\n",
              "    }\n",
              "\n",
              "    .dataframe tbody tr th {\n",
              "        vertical-align: top;\n",
              "    }\n",
              "\n",
              "    .dataframe thead th {\n",
              "        text-align: right;\n",
              "    }\n",
              "</style>\n",
              "<table border=\"1\" class=\"dataframe\">\n",
              "  <thead>\n",
              "    <tr style=\"text-align: right;\">\n",
              "      <th></th>\n",
              "      <th>customerID</th>\n",
              "      <th>Churn</th>\n",
              "      <th>gender</th>\n",
              "      <th>SeniorCitizen</th>\n",
              "      <th>Partner</th>\n",
              "      <th>Dependents</th>\n",
              "      <th>tenure</th>\n",
              "      <th>PhoneService</th>\n",
              "      <th>MultipleLines</th>\n",
              "      <th>InternetService</th>\n",
              "      <th>...</th>\n",
              "      <th>OnlineBackup</th>\n",
              "      <th>DeviceProtection</th>\n",
              "      <th>TechSupport</th>\n",
              "      <th>StreamingTV</th>\n",
              "      <th>StreamingMovies</th>\n",
              "      <th>Contract</th>\n",
              "      <th>PaperlessBilling</th>\n",
              "      <th>PaymentMethod</th>\n",
              "      <th>Charges.Monthly</th>\n",
              "      <th>Charges.Total</th>\n",
              "    </tr>\n",
              "  </thead>\n",
              "  <tbody>\n",
              "    <tr>\n",
              "      <th>0</th>\n",
              "      <td>0002-ORFBO</td>\n",
              "      <td>No</td>\n",
              "      <td>Female</td>\n",
              "      <td>0</td>\n",
              "      <td>Yes</td>\n",
              "      <td>Yes</td>\n",
              "      <td>9</td>\n",
              "      <td>Yes</td>\n",
              "      <td>No</td>\n",
              "      <td>DSL</td>\n",
              "      <td>...</td>\n",
              "      <td>Yes</td>\n",
              "      <td>No</td>\n",
              "      <td>Yes</td>\n",
              "      <td>Yes</td>\n",
              "      <td>No</td>\n",
              "      <td>One year</td>\n",
              "      <td>Yes</td>\n",
              "      <td>Mailed check</td>\n",
              "      <td>65.6</td>\n",
              "      <td>593.3</td>\n",
              "    </tr>\n",
              "    <tr>\n",
              "      <th>1</th>\n",
              "      <td>0003-MKNFE</td>\n",
              "      <td>No</td>\n",
              "      <td>Male</td>\n",
              "      <td>0</td>\n",
              "      <td>No</td>\n",
              "      <td>No</td>\n",
              "      <td>9</td>\n",
              "      <td>Yes</td>\n",
              "      <td>Yes</td>\n",
              "      <td>DSL</td>\n",
              "      <td>...</td>\n",
              "      <td>No</td>\n",
              "      <td>No</td>\n",
              "      <td>No</td>\n",
              "      <td>No</td>\n",
              "      <td>Yes</td>\n",
              "      <td>Month-to-month</td>\n",
              "      <td>No</td>\n",
              "      <td>Mailed check</td>\n",
              "      <td>59.9</td>\n",
              "      <td>542.4</td>\n",
              "    </tr>\n",
              "    <tr>\n",
              "      <th>2</th>\n",
              "      <td>0004-TLHLJ</td>\n",
              "      <td>Yes</td>\n",
              "      <td>Male</td>\n",
              "      <td>0</td>\n",
              "      <td>No</td>\n",
              "      <td>No</td>\n",
              "      <td>4</td>\n",
              "      <td>Yes</td>\n",
              "      <td>No</td>\n",
              "      <td>Fiber optic</td>\n",
              "      <td>...</td>\n",
              "      <td>No</td>\n",
              "      <td>Yes</td>\n",
              "      <td>No</td>\n",
              "      <td>No</td>\n",
              "      <td>No</td>\n",
              "      <td>Month-to-month</td>\n",
              "      <td>Yes</td>\n",
              "      <td>Electronic check</td>\n",
              "      <td>73.9</td>\n",
              "      <td>280.85</td>\n",
              "    </tr>\n",
              "    <tr>\n",
              "      <th>3</th>\n",
              "      <td>0011-IGKFF</td>\n",
              "      <td>Yes</td>\n",
              "      <td>Male</td>\n",
              "      <td>1</td>\n",
              "      <td>Yes</td>\n",
              "      <td>No</td>\n",
              "      <td>13</td>\n",
              "      <td>Yes</td>\n",
              "      <td>No</td>\n",
              "      <td>Fiber optic</td>\n",
              "      <td>...</td>\n",
              "      <td>Yes</td>\n",
              "      <td>Yes</td>\n",
              "      <td>No</td>\n",
              "      <td>Yes</td>\n",
              "      <td>Yes</td>\n",
              "      <td>Month-to-month</td>\n",
              "      <td>Yes</td>\n",
              "      <td>Electronic check</td>\n",
              "      <td>98.0</td>\n",
              "      <td>1237.85</td>\n",
              "    </tr>\n",
              "    <tr>\n",
              "      <th>4</th>\n",
              "      <td>0013-EXCHZ</td>\n",
              "      <td>Yes</td>\n",
              "      <td>Female</td>\n",
              "      <td>1</td>\n",
              "      <td>Yes</td>\n",
              "      <td>No</td>\n",
              "      <td>3</td>\n",
              "      <td>Yes</td>\n",
              "      <td>No</td>\n",
              "      <td>Fiber optic</td>\n",
              "      <td>...</td>\n",
              "      <td>No</td>\n",
              "      <td>No</td>\n",
              "      <td>Yes</td>\n",
              "      <td>Yes</td>\n",
              "      <td>No</td>\n",
              "      <td>Month-to-month</td>\n",
              "      <td>Yes</td>\n",
              "      <td>Mailed check</td>\n",
              "      <td>83.9</td>\n",
              "      <td>267.4</td>\n",
              "    </tr>\n",
              "  </tbody>\n",
              "</table>\n",
              "<p>5 rows × 21 columns</p>\n",
              "</div>\n",
              "    <div class=\"colab-df-buttons\">\n",
              "\n",
              "  <div class=\"colab-df-container\">\n",
              "    <button class=\"colab-df-convert\" onclick=\"convertToInteractive('df-88053fed-3119-49e6-98bf-98b19e853ee6')\"\n",
              "            title=\"Convert this dataframe to an interactive table.\"\n",
              "            style=\"display:none;\">\n",
              "\n",
              "  <svg xmlns=\"http://www.w3.org/2000/svg\" height=\"24px\" viewBox=\"0 -960 960 960\">\n",
              "    <path d=\"M120-120v-720h720v720H120Zm60-500h600v-160H180v160Zm220 220h160v-160H400v160Zm0 220h160v-160H400v160ZM180-400h160v-160H180v160Zm440 0h160v-160H620v160ZM180-180h160v-160H180v160Zm440 0h160v-160H620v160Z\"/>\n",
              "  </svg>\n",
              "    </button>\n",
              "\n",
              "  <style>\n",
              "    .colab-df-container {\n",
              "      display:flex;\n",
              "      gap: 12px;\n",
              "    }\n",
              "\n",
              "    .colab-df-convert {\n",
              "      background-color: #E8F0FE;\n",
              "      border: none;\n",
              "      border-radius: 50%;\n",
              "      cursor: pointer;\n",
              "      display: none;\n",
              "      fill: #1967D2;\n",
              "      height: 32px;\n",
              "      padding: 0 0 0 0;\n",
              "      width: 32px;\n",
              "    }\n",
              "\n",
              "    .colab-df-convert:hover {\n",
              "      background-color: #E2EBFA;\n",
              "      box-shadow: 0px 1px 2px rgba(60, 64, 67, 0.3), 0px 1px 3px 1px rgba(60, 64, 67, 0.15);\n",
              "      fill: #174EA6;\n",
              "    }\n",
              "\n",
              "    .colab-df-buttons div {\n",
              "      margin-bottom: 4px;\n",
              "    }\n",
              "\n",
              "    [theme=dark] .colab-df-convert {\n",
              "      background-color: #3B4455;\n",
              "      fill: #D2E3FC;\n",
              "    }\n",
              "\n",
              "    [theme=dark] .colab-df-convert:hover {\n",
              "      background-color: #434B5C;\n",
              "      box-shadow: 0px 1px 3px 1px rgba(0, 0, 0, 0.15);\n",
              "      filter: drop-shadow(0px 1px 2px rgba(0, 0, 0, 0.3));\n",
              "      fill: #FFFFFF;\n",
              "    }\n",
              "  </style>\n",
              "\n",
              "    <script>\n",
              "      const buttonEl =\n",
              "        document.querySelector('#df-88053fed-3119-49e6-98bf-98b19e853ee6 button.colab-df-convert');\n",
              "      buttonEl.style.display =\n",
              "        google.colab.kernel.accessAllowed ? 'block' : 'none';\n",
              "\n",
              "      async function convertToInteractive(key) {\n",
              "        const element = document.querySelector('#df-88053fed-3119-49e6-98bf-98b19e853ee6');\n",
              "        const dataTable =\n",
              "          await google.colab.kernel.invokeFunction('convertToInteractive',\n",
              "                                                    [key], {});\n",
              "        if (!dataTable) return;\n",
              "\n",
              "        const docLinkHtml = 'Like what you see? Visit the ' +\n",
              "          '<a target=\"_blank\" href=https://colab.research.google.com/notebooks/data_table.ipynb>data table notebook</a>'\n",
              "          + ' to learn more about interactive tables.';\n",
              "        element.innerHTML = '';\n",
              "        dataTable['output_type'] = 'display_data';\n",
              "        await google.colab.output.renderOutput(dataTable, element);\n",
              "        const docLink = document.createElement('div');\n",
              "        docLink.innerHTML = docLinkHtml;\n",
              "        element.appendChild(docLink);\n",
              "      }\n",
              "    </script>\n",
              "  </div>\n",
              "\n",
              "\n",
              "    <div id=\"df-eccf1437-a92b-4f66-b6ba-5d8ce1906445\">\n",
              "      <button class=\"colab-df-quickchart\" onclick=\"quickchart('df-eccf1437-a92b-4f66-b6ba-5d8ce1906445')\"\n",
              "                title=\"Suggest charts\"\n",
              "                style=\"display:none;\">\n",
              "\n",
              "<svg xmlns=\"http://www.w3.org/2000/svg\" height=\"24px\"viewBox=\"0 0 24 24\"\n",
              "     width=\"24px\">\n",
              "    <g>\n",
              "        <path d=\"M19 3H5c-1.1 0-2 .9-2 2v14c0 1.1.9 2 2 2h14c1.1 0 2-.9 2-2V5c0-1.1-.9-2-2-2zM9 17H7v-7h2v7zm4 0h-2V7h2v10zm4 0h-2v-4h2v4z\"/>\n",
              "    </g>\n",
              "</svg>\n",
              "      </button>\n",
              "\n",
              "<style>\n",
              "  .colab-df-quickchart {\n",
              "      --bg-color: #E8F0FE;\n",
              "      --fill-color: #1967D2;\n",
              "      --hover-bg-color: #E2EBFA;\n",
              "      --hover-fill-color: #174EA6;\n",
              "      --disabled-fill-color: #AAA;\n",
              "      --disabled-bg-color: #DDD;\n",
              "  }\n",
              "\n",
              "  [theme=dark] .colab-df-quickchart {\n",
              "      --bg-color: #3B4455;\n",
              "      --fill-color: #D2E3FC;\n",
              "      --hover-bg-color: #434B5C;\n",
              "      --hover-fill-color: #FFFFFF;\n",
              "      --disabled-bg-color: #3B4455;\n",
              "      --disabled-fill-color: #666;\n",
              "  }\n",
              "\n",
              "  .colab-df-quickchart {\n",
              "    background-color: var(--bg-color);\n",
              "    border: none;\n",
              "    border-radius: 50%;\n",
              "    cursor: pointer;\n",
              "    display: none;\n",
              "    fill: var(--fill-color);\n",
              "    height: 32px;\n",
              "    padding: 0;\n",
              "    width: 32px;\n",
              "  }\n",
              "\n",
              "  .colab-df-quickchart:hover {\n",
              "    background-color: var(--hover-bg-color);\n",
              "    box-shadow: 0 1px 2px rgba(60, 64, 67, 0.3), 0 1px 3px 1px rgba(60, 64, 67, 0.15);\n",
              "    fill: var(--button-hover-fill-color);\n",
              "  }\n",
              "\n",
              "  .colab-df-quickchart-complete:disabled,\n",
              "  .colab-df-quickchart-complete:disabled:hover {\n",
              "    background-color: var(--disabled-bg-color);\n",
              "    fill: var(--disabled-fill-color);\n",
              "    box-shadow: none;\n",
              "  }\n",
              "\n",
              "  .colab-df-spinner {\n",
              "    border: 2px solid var(--fill-color);\n",
              "    border-color: transparent;\n",
              "    border-bottom-color: var(--fill-color);\n",
              "    animation:\n",
              "      spin 1s steps(1) infinite;\n",
              "  }\n",
              "\n",
              "  @keyframes spin {\n",
              "    0% {\n",
              "      border-color: transparent;\n",
              "      border-bottom-color: var(--fill-color);\n",
              "      border-left-color: var(--fill-color);\n",
              "    }\n",
              "    20% {\n",
              "      border-color: transparent;\n",
              "      border-left-color: var(--fill-color);\n",
              "      border-top-color: var(--fill-color);\n",
              "    }\n",
              "    30% {\n",
              "      border-color: transparent;\n",
              "      border-left-color: var(--fill-color);\n",
              "      border-top-color: var(--fill-color);\n",
              "      border-right-color: var(--fill-color);\n",
              "    }\n",
              "    40% {\n",
              "      border-color: transparent;\n",
              "      border-right-color: var(--fill-color);\n",
              "      border-top-color: var(--fill-color);\n",
              "    }\n",
              "    60% {\n",
              "      border-color: transparent;\n",
              "      border-right-color: var(--fill-color);\n",
              "    }\n",
              "    80% {\n",
              "      border-color: transparent;\n",
              "      border-right-color: var(--fill-color);\n",
              "      border-bottom-color: var(--fill-color);\n",
              "    }\n",
              "    90% {\n",
              "      border-color: transparent;\n",
              "      border-bottom-color: var(--fill-color);\n",
              "    }\n",
              "  }\n",
              "</style>\n",
              "\n",
              "      <script>\n",
              "        async function quickchart(key) {\n",
              "          const quickchartButtonEl =\n",
              "            document.querySelector('#' + key + ' button');\n",
              "          quickchartButtonEl.disabled = true;  // To prevent multiple clicks.\n",
              "          quickchartButtonEl.classList.add('colab-df-spinner');\n",
              "          try {\n",
              "            const charts = await google.colab.kernel.invokeFunction(\n",
              "                'suggestCharts', [key], {});\n",
              "          } catch (error) {\n",
              "            console.error('Error during call to suggestCharts:', error);\n",
              "          }\n",
              "          quickchartButtonEl.classList.remove('colab-df-spinner');\n",
              "          quickchartButtonEl.classList.add('colab-df-quickchart-complete');\n",
              "        }\n",
              "        (() => {\n",
              "          let quickchartButtonEl =\n",
              "            document.querySelector('#df-eccf1437-a92b-4f66-b6ba-5d8ce1906445 button');\n",
              "          quickchartButtonEl.style.display =\n",
              "            google.colab.kernel.accessAllowed ? 'block' : 'none';\n",
              "        })();\n",
              "      </script>\n",
              "    </div>\n",
              "\n",
              "    </div>\n",
              "  </div>\n"
            ],
            "application/vnd.google.colaboratory.intrinsic+json": {
              "type": "dataframe"
            }
          },
          "metadata": {}
        }
      ]
    },
    {
      "cell_type": "code",
      "source": [
        "df.info()\n"
      ],
      "metadata": {
        "colab": {
          "base_uri": "https://localhost:8080/"
        },
        "id": "Rm9hqH_O95mY",
        "outputId": "4950fa2e-bbbc-476f-d816-911ae04fee00"
      },
      "execution_count": null,
      "outputs": [
        {
          "output_type": "stream",
          "name": "stdout",
          "text": [
            "<class 'pandas.core.frame.DataFrame'>\n",
            "RangeIndex: 7267 entries, 0 to 7266\n",
            "Data columns (total 6 columns):\n",
            " #   Column      Non-Null Count  Dtype \n",
            "---  ------      --------------  ----- \n",
            " 0   customerID  7267 non-null   object\n",
            " 1   Churn       7267 non-null   object\n",
            " 2   customer    7267 non-null   object\n",
            " 3   phone       7267 non-null   object\n",
            " 4   internet    7267 non-null   object\n",
            " 5   account     7267 non-null   object\n",
            "dtypes: object(6)\n",
            "memory usage: 340.8+ KB\n"
          ]
        }
      ]
    },
    {
      "cell_type": "code",
      "source": [
        "# Guardar como CSV limpio\n",
        "df_expanded.to_csv(\"TelecomX_Datos_Normalizados.csv\", index=False)\n"
      ],
      "metadata": {
        "id": "kZ5PrS7X-Wap"
      },
      "execution_count": null,
      "outputs": []
    },
    {
      "cell_type": "markdown",
      "source": [
        "# 🔧 **`Transformación`**"
      ],
      "metadata": {
        "id": "uVrgfTay-ivw"
      }
    },
    {
      "cell_type": "markdown",
      "source": [
        "Tras la extracción inicial, la transformación se enfocó en convertir los datos crudos y anidados en una estructura plana, limpia y coherente para el análisis."
      ],
      "metadata": {
        "id": "pt9vgUba-j3S"
      }
    },
    {
      "cell_type": "markdown",
      "source": [
        "1. Normalización de columnas anidadas\n",
        "Se utilizó pandas.json_normalize() para convertir las columnas customer, phone, internet y account, que originalmente contenían diccionarios, en columnas independientes. Esto permitió que variables como gender, SeniorCitizen, Contract, etc., estuvieran disponibles como columnas claras y analizables."
      ],
      "metadata": {
        "id": "nclD7DWK-m5y"
      }
    },
    {
      "cell_type": "code",
      "source": [
        "from pandas import json_normalize\n",
        "\n",
        "df_expanded = pd.concat([\n",
        "    df[['customerID', 'Churn']],\n",
        "    json_normalize(df['customer']),\n",
        "    json_normalize(df['phone']),\n",
        "    json_normalize(df['internet']),\n",
        "    json_normalize(df['account'])\n",
        "], axis=1)\n"
      ],
      "metadata": {
        "id": "kYqZAXbi-pLw"
      },
      "execution_count": null,
      "outputs": []
    },
    {
      "cell_type": "markdown",
      "source": [
        "2. Limpieza general de datos\n",
        "Se eliminaron duplicados y se estandarizaron los valores de texto en múltiples columnas para evitar errores por diferencias de formato."
      ],
      "metadata": {
        "id": "P_uCwAnk-tQB"
      }
    },
    {
      "cell_type": "code",
      "source": [
        "# Eliminar duplicados\n",
        "df_expanded.drop_duplicates(inplace=True)\n",
        "\n",
        "# Limpiar y unificar mayúsculas/minúsculas y espacios\n",
        "columnas_str = [\n",
        "    'gender', 'Partner', 'Dependents', 'PhoneService', 'MultipleLines',\n",
        "    'InternetService', 'OnlineSecurity', 'OnlineBackup', 'DeviceProtection',\n",
        "    'TechSupport', 'StreamingTV', 'StreamingMovies', 'Contract',\n",
        "    'PaperlessBilling', 'PaymentMethod'\n",
        "]\n",
        "\n",
        "for col in columnas_str:\n",
        "    df_expanded[col] = df_expanded[col].str.strip().str.lower()\n"
      ],
      "metadata": {
        "id": "EgcqGs7Q-uVh"
      },
      "execution_count": null,
      "outputs": []
    },
    {
      "cell_type": "markdown",
      "source": [
        "3. Renombramiento de columnas para facilitar análisis\n",
        "Algunas columnas normalizadas tenían nombres compuestos (Charges.Monthly, Charges.Total). Para mejorar la legibilidad, se renombraron de la siguiente forma:"
      ],
      "metadata": {
        "id": "D-H0pmoO-zGI"
      }
    },
    {
      "cell_type": "code",
      "source": [
        "df_expanded.rename(columns={\n",
        "    'Charges.Monthly': 'MonthlyCharges',\n",
        "    'Charges.Total': 'TotalCharges'\n",
        "}, inplace=True)\n"
      ],
      "metadata": {
        "id": "Nzh6gkeh-0GB"
      },
      "execution_count": null,
      "outputs": []
    },
    {
      "cell_type": "markdown",
      "source": [
        "4. Conversión de valores categóricos a binarios\n",
        "Las variables con valores “Yes”/“No” fueron convertidas a 1 y 0 respectivamente, para facilitar análisis matemáticos y visuales."
      ],
      "metadata": {
        "id": "V6OTFRYq-zbZ"
      }
    },
    {
      "cell_type": "code",
      "source": [
        "# Churn: columna objetivo\n",
        "df_expanded['Churn'] = df_expanded['Churn'].map({'Yes': 1, 'No': 0})\n",
        "\n",
        "# Variables binarias\n",
        "binarias = ['Partner', 'Dependents', 'PhoneService', 'PaperlessBilling']\n",
        "for col in binarias:\n",
        "    df_expanded[col] = df_expanded[col].map({'yes': 1, 'no': 0})\n"
      ],
      "metadata": {
        "id": "d9sruySN-4Uw"
      },
      "execution_count": null,
      "outputs": []
    },
    {
      "cell_type": "markdown",
      "source": [
        "5. Creación de la columna “Cuentas_Diarias”\n",
        "Para obtener una perspectiva más granular del comportamiento financiero del cliente, se creó la variable Cuentas_Diarias, calculando el gasto mensual dividido entre 30 días."
      ],
      "metadata": {
        "id": "OQHY9TuG_3hq"
      }
    },
    {
      "cell_type": "code",
      "source": [
        "df_expanded['Cuentas_Diarias'] = df_expanded['MonthlyCharges'] / 30\n"
      ],
      "metadata": {
        "id": "23SyRVoD_4xx"
      },
      "execution_count": null,
      "outputs": []
    },
    {
      "cell_type": "code",
      "source": [
        "# Estadísticas básicas de la nueva columna\n",
        "df_expanded['Cuentas_Diarias'].describe()\n"
      ],
      "metadata": {
        "colab": {
          "base_uri": "https://localhost:8080/",
          "height": 335
        },
        "id": "eQ9E9xENAIx6",
        "outputId": "474d6432-af4b-4c94-b531-5352ddeac7d8"
      },
      "execution_count": null,
      "outputs": [
        {
          "output_type": "execute_result",
          "data": {
            "text/plain": [
              "count    7267.000000\n",
              "mean        2.157337\n",
              "std         1.004319\n",
              "min         0.608333\n",
              "25%         1.180833\n",
              "50%         2.343333\n",
              "75%         2.995833\n",
              "max         3.958333\n",
              "Name: Cuentas_Diarias, dtype: float64"
            ],
            "text/html": [
              "<div>\n",
              "<style scoped>\n",
              "    .dataframe tbody tr th:only-of-type {\n",
              "        vertical-align: middle;\n",
              "    }\n",
              "\n",
              "    .dataframe tbody tr th {\n",
              "        vertical-align: top;\n",
              "    }\n",
              "\n",
              "    .dataframe thead th {\n",
              "        text-align: right;\n",
              "    }\n",
              "</style>\n",
              "<table border=\"1\" class=\"dataframe\">\n",
              "  <thead>\n",
              "    <tr style=\"text-align: right;\">\n",
              "      <th></th>\n",
              "      <th>Cuentas_Diarias</th>\n",
              "    </tr>\n",
              "  </thead>\n",
              "  <tbody>\n",
              "    <tr>\n",
              "      <th>count</th>\n",
              "      <td>7267.000000</td>\n",
              "    </tr>\n",
              "    <tr>\n",
              "      <th>mean</th>\n",
              "      <td>2.157337</td>\n",
              "    </tr>\n",
              "    <tr>\n",
              "      <th>std</th>\n",
              "      <td>1.004319</td>\n",
              "    </tr>\n",
              "    <tr>\n",
              "      <th>min</th>\n",
              "      <td>0.608333</td>\n",
              "    </tr>\n",
              "    <tr>\n",
              "      <th>25%</th>\n",
              "      <td>1.180833</td>\n",
              "    </tr>\n",
              "    <tr>\n",
              "      <th>50%</th>\n",
              "      <td>2.343333</td>\n",
              "    </tr>\n",
              "    <tr>\n",
              "      <th>75%</th>\n",
              "      <td>2.995833</td>\n",
              "    </tr>\n",
              "    <tr>\n",
              "      <th>max</th>\n",
              "      <td>3.958333</td>\n",
              "    </tr>\n",
              "  </tbody>\n",
              "</table>\n",
              "</div><br><label><b>dtype:</b> float64</label>"
            ]
          },
          "metadata": {},
          "execution_count": 36
        }
      ]
    },
    {
      "cell_type": "code",
      "source": [
        "import seaborn as sns\n",
        "import matplotlib.pyplot as plt\n",
        "\n",
        "sns.histplot(df_expanded['Cuentas_Diarias'], bins=30, kde=True)\n",
        "plt.title('Distribución de Cuentas Diarias')\n",
        "plt.xlabel('Monto Diario Estimado')\n",
        "plt.ylabel('Cantidad de Clientes')\n",
        "plt.show()\n"
      ],
      "metadata": {
        "colab": {
          "base_uri": "https://localhost:8080/",
          "height": 472
        },
        "id": "FE4OQjBQANCy",
        "outputId": "98d1decf-d54e-47f9-ffab-cb73098cf85d"
      },
      "execution_count": null,
      "outputs": [
        {
          "output_type": "display_data",
          "data": {
            "text/plain": [
              "<Figure size 640x480 with 1 Axes>"
            ],
            "image/png": "[encoded data removed]"
          },
          "metadata": {}
        }
      ]
    },
    {
      "cell_type": "markdown",
      "source": [
        "# 📊 Carga y Análisis (EDA)\n"
      ],
      "metadata": {
        "id": "eVmhT9ITAhPS"
      }
    },
    {
      "cell_type": "markdown",
      "source": [
        "Con el conjunto de datos ya transformado, limpio y estructurado, se procede al Análisis Exploratorio de Datos (EDA) para identificar patrones relevantes relacionados con la evasión de clientes (Churn). Esta fase es clave para descubrir tendencias, correlaciones y segmentos críticos que podrían explicar el comportamiento de cancelación."
      ],
      "metadata": {
        "id": "dFq0AjH8Am3B"
      }
    },
    {
      "cell_type": "markdown",
      "source": [
        "🔹 1. Análisis Descriptivo General\n",
        "Se aplicó describe() sobre las variables numéricas para obtener una visión general de las métricas estadísticas básicas."
      ],
      "metadata": {
        "id": "WE3DjFdTAkAp"
      }
    },
    {
      "cell_type": "code",
      "source": [
        "df_expanded.describe()\n"
      ],
      "metadata": {
        "colab": {
          "base_uri": "https://localhost:8080/",
          "height": 300
        },
        "id": "IzCuc2o9AgRZ",
        "outputId": "ad5a5452-c2e7-466f-8815-c16dfe48c130"
      },
      "execution_count": null,
      "outputs": [
        {
          "output_type": "execute_result",
          "data": {
            "text/plain": [
              "             Churn  SeniorCitizen      Partner   Dependents       tenure  \\\n",
              "count  7043.000000    7267.000000  7267.000000  7267.000000  7267.000000   \n",
              "mean      0.265370       0.162653     0.484106     0.300124    32.346498   \n",
              "std       0.441561       0.369074     0.499782     0.458343    24.571773   \n",
              "min       0.000000       0.000000     0.000000     0.000000     0.000000   \n",
              "25%       0.000000       0.000000     0.000000     0.000000     9.000000   \n",
              "50%       0.000000       0.000000     0.000000     0.000000    29.000000   \n",
              "75%       1.000000       0.000000     1.000000     1.000000    55.000000   \n",
              "max       1.000000       1.000000     1.000000     1.000000    72.000000   \n",
              "\n",
              "       PhoneService  PaperlessBilling  MonthlyCharges  Cuentas_Diarias  \n",
              "count   7267.000000       7267.000000     7267.000000      7267.000000  \n",
              "mean       0.902711          0.593230       64.720098         2.157337  \n",
              "std        0.296371          0.491265       30.129572         1.004319  \n",
              "min        0.000000          0.000000       18.250000         0.608333  \n",
              "25%        1.000000          0.000000       35.425000         1.180833  \n",
              "50%        1.000000          1.000000       70.300000         2.343333  \n",
              "75%        1.000000          1.000000       89.875000         2.995833  \n",
              "max        1.000000          1.000000      118.750000         3.958333  "
            ],
            "text/html": [
              "\n",
              "  <div id=\"df-82992b0b-4e0b-4ca7-951e-3e6615bb463b\" class=\"colab-df-container\">\n",
              "    <div>\n",
              "<style scoped>\n",
              "    .dataframe tbody tr th:only-of-type {\n",
              "        vertical-align: middle;\n",
              "    }\n",
              "\n",
              "    .dataframe tbody tr th {\n",
              "        vertical-align: top;\n",
              "    }\n",
              "\n",
              "    .dataframe thead th {\n",
              "        text-align: right;\n",
              "    }\n",
              "</style>\n",
              "<table border=\"1\" class=\"dataframe\">\n",
              "  <thead>\n",
              "    <tr style=\"text-align: right;\">\n",
              "      <th></th>\n",
              "      <th>Churn</th>\n",
              "      <th>SeniorCitizen</th>\n",
              "      <th>Partner</th>\n",
              "      <th>Dependents</th>\n",
              "      <th>tenure</th>\n",
              "      <th>PhoneService</th>\n",
              "      <th>PaperlessBilling</th>\n",
              "      <th>MonthlyCharges</th>\n",
              "      <th>Cuentas_Diarias</th>\n",
              "    </tr>\n",
              "  </thead>\n",
              "  <tbody>\n",
              "    <tr>\n",
              "      <th>count</th>\n",
              "      <td>7043.000000</td>\n",
              "      <td>7267.000000</td>\n",
              "      <td>7267.000000</td>\n",
              "      <td>7267.000000</td>\n",
              "      <td>7267.000000</td>\n",
              "      <td>7267.000000</td>\n",
              "      <td>7267.000000</td>\n",
              "      <td>7267.000000</td>\n",
              "      <td>7267.000000</td>\n",
              "    </tr>\n",
              "    <tr>\n",
              "      <th>mean</th>\n",
              "      <td>0.265370</td>\n",
              "      <td>0.162653</td>\n",
              "      <td>0.484106</td>\n",
              "      <td>0.300124</td>\n",
              "      <td>32.346498</td>\n",
              "      <td>0.902711</td>\n",
              "      <td>0.593230</td>\n",
              "      <td>64.720098</td>\n",
              "      <td>2.157337</td>\n",
              "    </tr>\n",
              "    <tr>\n",
              "      <th>std</th>\n",
              "      <td>0.441561</td>\n",
              "      <td>0.369074</td>\n",
              "      <td>0.499782</td>\n",
              "      <td>0.458343</td>\n",
              "      <td>24.571773</td>\n",
              "      <td>0.296371</td>\n",
              "      <td>0.491265</td>\n",
              "      <td>30.129572</td>\n",
              "      <td>1.004319</td>\n",
              "    </tr>\n",
              "    <tr>\n",
              "      <th>min</th>\n",
              "      <td>0.000000</td>\n",
              "      <td>0.000000</td>\n",
              "      <td>0.000000</td>\n",
              "      <td>0.000000</td>\n",
              "      <td>0.000000</td>\n",
              "      <td>0.000000</td>\n",
              "      <td>0.000000</td>\n",
              "      <td>18.250000</td>\n",
              "      <td>0.608333</td>\n",
              "    </tr>\n",
              "    <tr>\n",
              "      <th>25%</th>\n",
              "      <td>0.000000</td>\n",
              "      <td>0.000000</td>\n",
              "      <td>0.000000</td>\n",
              "      <td>0.000000</td>\n",
              "      <td>9.000000</td>\n",
              "      <td>1.000000</td>\n",
              "      <td>0.000000</td>\n",
              "      <td>35.425000</td>\n",
              "      <td>1.180833</td>\n",
              "    </tr>\n",
              "    <tr>\n",
              "      <th>50%</th>\n",
              "      <td>0.000000</td>\n",
              "      <td>0.000000</td>\n",
              "      <td>0.000000</td>\n",
              "      <td>0.000000</td>\n",
              "      <td>29.000000</td>\n",
              "      <td>1.000000</td>\n",
              "      <td>1.000000</td>\n",
              "      <td>70.300000</td>\n",
              "      <td>2.343333</td>\n",
              "    </tr>\n",
              "    <tr>\n",
              "      <th>75%</th>\n",
              "      <td>1.000000</td>\n",
              "      <td>0.000000</td>\n",
              "      <td>1.000000</td>\n",
              "      <td>1.000000</td>\n",
              "      <td>55.000000</td>\n",
              "      <td>1.000000</td>\n",
              "      <td>1.000000</td>\n",
              "      <td>89.875000</td>\n",
              "      <td>2.995833</td>\n",
              "    </tr>\n",
              "    <tr>\n",
              "      <th>max</th>\n",
              "      <td>1.000000</td>\n",
              "      <td>1.000000</td>\n",
              "      <td>1.000000</td>\n",
              "      <td>1.000000</td>\n",
              "      <td>72.000000</td>\n",
              "      <td>1.000000</td>\n",
              "      <td>1.000000</td>\n",
              "      <td>118.750000</td>\n",
              "      <td>3.958333</td>\n",
              "    </tr>\n",
              "  </tbody>\n",
              "</table>\n",
              "</div>\n",
              "    <div class=\"colab-df-buttons\">\n",
              "\n",
              "  <div class=\"colab-df-container\">\n",
              "    <button class=\"colab-df-convert\" onclick=\"convertToInteractive('df-82992b0b-4e0b-4ca7-951e-3e6615bb463b')\"\n",
              "            title=\"Convert this dataframe to an interactive table.\"\n",
              "            style=\"display:none;\">\n",
              "\n",
              "  <svg xmlns=\"http://www.w3.org/2000/svg\" height=\"24px\" viewBox=\"0 -960 960 960\">\n",
              "    <path d=\"M120-120v-720h720v720H120Zm60-500h600v-160H180v160Zm220 220h160v-160H400v160Zm0 220h160v-160H400v160ZM180-400h160v-160H180v160Zm440 0h160v-160H620v160ZM180-180h160v-160H180v160Zm440 0h160v-160H620v160Z\"/>\n",
              "  </svg>\n",
              "    </button>\n",
              "\n",
              "  <style>\n",
              "    .colab-df-container {\n",
              "      display:flex;\n",
              "      gap: 12px;\n",
              "    }\n",
              "\n",
              "    .colab-df-convert {\n",
              "      background-color: #E8F0FE;\n",
              "      border: none;\n",
              "      border-radius: 50%;\n",
              "      cursor: pointer;\n",
              "      display: none;\n",
              "      fill: #1967D2;\n",
              "      height: 32px;\n",
              "      padding: 0 0 0 0;\n",
              "      width: 32px;\n",
              "    }\n",
              "\n",
              "    .colab-df-convert:hover {\n",
              "      background-color: #E2EBFA;\n",
              "      box-shadow: 0px 1px 2px rgba(60, 64, 67, 0.3), 0px 1px 3px 1px rgba(60, 64, 67, 0.15);\n",
              "      fill: #174EA6;\n",
              "    }\n",
              "\n",
              "    .colab-df-buttons div {\n",
              "      margin-bottom: 4px;\n",
              "    }\n",
              "\n",
              "    [theme=dark] .colab-df-convert {\n",
              "      background-color: #3B4455;\n",
              "      fill: #D2E3FC;\n",
              "    }\n",
              "\n",
              "    [theme=dark] .colab-df-convert:hover {\n",
              "      background-color: #434B5C;\n",
              "      box-shadow: 0px 1px 3px 1px rgba(0, 0, 0, 0.15);\n",
              "      filter: drop-shadow(0px 1px 2px rgba(0, 0, 0, 0.3));\n",
              "      fill: #FFFFFF;\n",
              "    }\n",
              "  </style>\n",
              "\n",
              "    <script>\n",
              "      const buttonEl =\n",
              "        document.querySelector('#df-82992b0b-4e0b-4ca7-951e-3e6615bb463b button.colab-df-convert');\n",
              "      buttonEl.style.display =\n",
              "        google.colab.kernel.accessAllowed ? 'block' : 'none';\n",
              "\n",
              "      async function convertToInteractive(key) {\n",
              "        const element = document.querySelector('#df-82992b0b-4e0b-4ca7-951e-3e6615bb463b');\n",
              "        const dataTable =\n",
              "          await google.colab.kernel.invokeFunction('convertToInteractive',\n",
              "                                                    [key], {});\n",
              "        if (!dataTable) return;\n",
              "\n",
              "        const docLinkHtml = 'Like what you see? Visit the ' +\n",
              "          '<a target=\"_blank\" href=https://colab.research.google.com/notebooks/data_table.ipynb>data table notebook</a>'\n",
              "          + ' to learn more about interactive tables.';\n",
              "        element.innerHTML = '';\n",
              "        dataTable['output_type'] = 'display_data';\n",
              "        await google.colab.output.renderOutput(dataTable, element);\n",
              "        const docLink = document.createElement('div');\n",
              "        docLink.innerHTML = docLinkHtml;\n",
              "        element.appendChild(docLink);\n",
              "      }\n",
              "    </script>\n",
              "  </div>\n",
              "\n",
              "\n",
              "    <div id=\"df-44b80f59-6b7d-4e4b-8b06-ffee97f5d2f1\">\n",
              "      <button class=\"colab-df-quickchart\" onclick=\"quickchart('df-44b80f59-6b7d-4e4b-8b06-ffee97f5d2f1')\"\n",
              "                title=\"Suggest charts\"\n",
              "                style=\"display:none;\">\n",
              "\n",
              "<svg xmlns=\"http://www.w3.org/2000/svg\" height=\"24px\"viewBox=\"0 0 24 24\"\n",
              "     width=\"24px\">\n",
              "    <g>\n",
              "        <path d=\"M19 3H5c-1.1 0-2 .9-2 2v14c0 1.1.9 2 2 2h14c1.1 0 2-.9 2-2V5c0-1.1-.9-2-2-2zM9 17H7v-7h2v7zm4 0h-2V7h2v10zm4 0h-2v-4h2v4z\"/>\n",
              "    </g>\n",
              "</svg>\n",
              "      </button>\n",
              "\n",
              "<style>\n",
              "  .colab-df-quickchart {\n",
              "      --bg-color: #E8F0FE;\n",
              "      --fill-color: #1967D2;\n",
              "      --hover-bg-color: #E2EBFA;\n",
              "      --hover-fill-color: #174EA6;\n",
              "      --disabled-fill-color: #AAA;\n",
              "      --disabled-bg-color: #DDD;\n",
              "  }\n",
              "\n",
              "  [theme=dark] .colab-df-quickchart {\n",
              "      --bg-color: #3B4455;\n",
              "      --fill-color: #D2E3FC;\n",
              "      --hover-bg-color: #434B5C;\n",
              "      --hover-fill-color: #FFFFFF;\n",
              "      --disabled-bg-color: #3B4455;\n",
              "      --disabled-fill-color: #666;\n",
              "  }\n",
              "\n",
              "  .colab-df-quickchart {\n",
              "    background-color: var(--bg-color);\n",
              "    border: none;\n",
              "    border-radius: 50%;\n",
              "    cursor: pointer;\n",
              "    display: none;\n",
              "    fill: var(--fill-color);\n",
              "    height: 32px;\n",
              "    padding: 0;\n",
              "    width: 32px;\n",
              "  }\n",
              "\n",
              "  .colab-df-quickchart:hover {\n",
              "    background-color: var(--hover-bg-color);\n",
              "    box-shadow: 0 1px 2px rgba(60, 64, 67, 0.3), 0 1px 3px 1px rgba(60, 64, 67, 0.15);\n",
              "    fill: var(--button-hover-fill-color);\n",
              "  }\n",
              "\n",
              "  .colab-df-quickchart-complete:disabled,\n",
              "  .colab-df-quickchart-complete:disabled:hover {\n",
              "    background-color: var(--disabled-bg-color);\n",
              "    fill: var(--disabled-fill-color);\n",
              "    box-shadow: none;\n",
              "  }\n",
              "\n",
              "  .colab-df-spinner {\n",
              "    border: 2px solid var(--fill-color);\n",
              "    border-color: transparent;\n",
              "    border-bottom-color: var(--fill-color);\n",
              "    animation:\n",
              "      spin 1s steps(1) infinite;\n",
              "  }\n",
              "\n",
              "  @keyframes spin {\n",
              "    0% {\n",
              "      border-color: transparent;\n",
              "      border-bottom-color: var(--fill-color);\n",
              "      border-left-color: var(--fill-color);\n",
              "    }\n",
              "    20% {\n",
              "      border-color: transparent;\n",
              "      border-left-color: var(--fill-color);\n",
              "      border-top-color: var(--fill-color);\n",
              "    }\n",
              "    30% {\n",
              "      border-color: transparent;\n",
              "      border-left-color: var(--fill-color);\n",
              "      border-top-color: var(--fill-color);\n",
              "      border-right-color: var(--fill-color);\n",
              "    }\n",
              "    40% {\n",
              "      border-color: transparent;\n",
              "      border-right-color: var(--fill-color);\n",
              "      border-top-color: var(--fill-color);\n",
              "    }\n",
              "    60% {\n",
              "      border-color: transparent;\n",
              "      border-right-color: var(--fill-color);\n",
              "    }\n",
              "    80% {\n",
              "      border-color: transparent;\n",
              "      border-right-color: var(--fill-color);\n",
              "      border-bottom-color: var(--fill-color);\n",
              "    }\n",
              "    90% {\n",
              "      border-color: transparent;\n",
              "      border-bottom-color: var(--fill-color);\n",
              "    }\n",
              "  }\n",
              "</style>\n",
              "\n",
              "      <script>\n",
              "        async function quickchart(key) {\n",
              "          const quickchartButtonEl =\n",
              "            document.querySelector('#' + key + ' button');\n",
              "          quickchartButtonEl.disabled = true;  // To prevent multiple clicks.\n",
              "          quickchartButtonEl.classList.add('colab-df-spinner');\n",
              "          try {\n",
              "            const charts = await google.colab.kernel.invokeFunction(\n",
              "                'suggestCharts', [key], {});\n",
              "          } catch (error) {\n",
              "            console.error('Error during call to suggestCharts:', error);\n",
              "          }\n",
              "          quickchartButtonEl.classList.remove('colab-df-spinner');\n",
              "          quickchartButtonEl.classList.add('colab-df-quickchart-complete');\n",
              "        }\n",
              "        (() => {\n",
              "          let quickchartButtonEl =\n",
              "            document.querySelector('#df-44b80f59-6b7d-4e4b-8b06-ffee97f5d2f1 button');\n",
              "          quickchartButtonEl.style.display =\n",
              "            google.colab.kernel.accessAllowed ? 'block' : 'none';\n",
              "        })();\n",
              "      </script>\n",
              "    </div>\n",
              "\n",
              "    </div>\n",
              "  </div>\n"
            ],
            "application/vnd.google.colaboratory.intrinsic+json": {
              "type": "dataframe",
              "summary": "{\n  \"name\": \"df_expanded\",\n  \"rows\": 8,\n  \"fields\": [\n    {\n      \"column\": \"Churn\",\n      \"properties\": {\n        \"dtype\": \"number\",\n        \"std\": 2489.939844235915,\n        \"min\": 0.0,\n        \"max\": 7043.0,\n        \"num_unique_values\": 5,\n        \"samples\": [\n          0.2653698707936959,\n          1.0,\n          0.4415613051219502\n        ],\n        \"semantic_type\": \"\",\n        \"description\": \"\"\n      }\n    },\n    {\n      \"column\": \"SeniorCitizen\",\n      \"properties\": {\n        \"dtype\": \"number\",\n        \"std\": 2569.19514853371,\n        \"min\": 0.0,\n        \"max\": 7267.0,\n        \"num_unique_values\": 5,\n        \"samples\": [\n          0.16265308930782993,\n          1.0,\n          0.3690742557820031\n        ],\n        \"semantic_type\": \"\",\n        \"description\": \"\"\n      }\n    },\n    {\n      \"column\": \"Partner\",\n      \"properties\": {\n        \"dtype\": \"number\",\n        \"std\": 2569.1218140436854,\n        \"min\": 0.0,\n        \"max\": 7267.0,\n        \"num_unique_values\": 5,\n        \"samples\": [\n          0.48410623365900646,\n          1.0,\n          0.49978171260213444\n        ],\n        \"semantic_type\": \"\",\n        \"description\": \"\"\n      }\n    },\n    {\n      \"column\": \"Dependents\",\n      \"properties\": {\n        \"dtype\": \"number\",\n        \"std\": 2569.1331995473306,\n        \"min\": 0.0,\n        \"max\": 7267.0,\n        \"num_unique_values\": 5,\n        \"samples\": [\n          0.3001238475299298,\n          1.0,\n          0.4583431380785336\n        ],\n        \"semantic_type\": \"\",\n        \"description\": \"\"\n      }\n    },\n    {\n      \"column\": \"tenure\",\n      \"properties\": {\n        \"dtype\": \"number\",\n        \"std\": 2558.1685122560853,\n        \"min\": 0.0,\n        \"max\": 7267.0,\n        \"num_unique_values\": 8,\n        \"samples\": [\n          32.34649786707032,\n          29.0,\n          7267.0\n        ],\n        \"semantic_type\": \"\",\n        \"description\": \"\"\n      }\n    },\n    {\n      \"column\": \"PhoneService\",\n      \"properties\": {\n        \"dtype\": \"number\",\n        \"std\": 2569.0099250796134,\n        \"min\": 0.0,\n        \"max\": 7267.0,\n        \"num_unique_values\": 5,\n        \"samples\": [\n          0.9027108848217972,\n          1.0,\n          0.2963714396136822\n        ],\n        \"semantic_type\": \"\",\n        \"description\": \"\"\n      }\n    },\n    {\n      \"column\": \"PaperlessBilling\",\n      \"properties\": {\n        \"dtype\": \"number\",\n        \"std\": 2569.0662249410307,\n        \"min\": 0.0,\n        \"max\": 7267.0,\n        \"num_unique_values\": 5,\n        \"samples\": [\n          0.5932296683638365,\n          1.0,\n          0.49126514179011355\n        ],\n        \"semantic_type\": \"\",\n        \"description\": \"\"\n      }\n    },\n    {\n      \"column\": \"MonthlyCharges\",\n      \"properties\": {\n        \"dtype\": \"number\",\n        \"std\": 2547.8989994186936,\n        \"min\": 18.25,\n        \"max\": 7267.0,\n        \"num_unique_values\": 8,\n        \"samples\": [\n          64.72009770194028,\n          70.3,\n          7267.0\n        ],\n        \"semantic_type\": \"\",\n        \"description\": \"\"\n      }\n    },\n    {\n      \"column\": \"Cuentas_Diarias\",\n      \"properties\": {\n        \"dtype\": \"number\",\n        \"std\": 2568.553078525389,\n        \"min\": 0.6083333333333333,\n        \"max\": 7267.0,\n        \"num_unique_values\": 8,\n        \"samples\": [\n          2.1573365900646757,\n          2.3433333333333333,\n          7267.0\n        ],\n        \"semantic_type\": \"\",\n        \"description\": \"\"\n      }\n    }\n  ]\n}"
            }
          },
          "metadata": {},
          "execution_count": 38
        }
      ]
    },
    {
      "cell_type": "markdown",
      "source": [
        "2. Exploración de la variable Cuentas_Diarias (nueva)\n",
        "Esta columna fue creada para representar el gasto diario estimado de cada cliente, proporcionando una forma más detallada de medir el compromiso financiero con la empresa."
      ],
      "metadata": {
        "id": "ADQWmP2MAr6C"
      }
    },
    {
      "cell_type": "code",
      "source": [
        "df_expanded['Cuentas_Diarias'].describe()\n"
      ],
      "metadata": {
        "colab": {
          "base_uri": "https://localhost:8080/",
          "height": 335
        },
        "id": "GAv1OO5_As4p",
        "outputId": "eb655aeb-d788-48c3-f39a-ba0e78a960ff"
      },
      "execution_count": null,
      "outputs": [
        {
          "output_type": "execute_result",
          "data": {
            "text/plain": [
              "count    7267.000000\n",
              "mean        2.157337\n",
              "std         1.004319\n",
              "min         0.608333\n",
              "25%         1.180833\n",
              "50%         2.343333\n",
              "75%         2.995833\n",
              "max         3.958333\n",
              "Name: Cuentas_Diarias, dtype: float64"
            ],
            "text/html": [
              "<div>\n",
              "<style scoped>\n",
              "    .dataframe tbody tr th:only-of-type {\n",
              "        vertical-align: middle;\n",
              "    }\n",
              "\n",
              "    .dataframe tbody tr th {\n",
              "        vertical-align: top;\n",
              "    }\n",
              "\n",
              "    .dataframe thead th {\n",
              "        text-align: right;\n",
              "    }\n",
              "</style>\n",
              "<table border=\"1\" class=\"dataframe\">\n",
              "  <thead>\n",
              "    <tr style=\"text-align: right;\">\n",
              "      <th></th>\n",
              "      <th>Cuentas_Diarias</th>\n",
              "    </tr>\n",
              "  </thead>\n",
              "  <tbody>\n",
              "    <tr>\n",
              "      <th>count</th>\n",
              "      <td>7267.000000</td>\n",
              "    </tr>\n",
              "    <tr>\n",
              "      <th>mean</th>\n",
              "      <td>2.157337</td>\n",
              "    </tr>\n",
              "    <tr>\n",
              "      <th>std</th>\n",
              "      <td>1.004319</td>\n",
              "    </tr>\n",
              "    <tr>\n",
              "      <th>min</th>\n",
              "      <td>0.608333</td>\n",
              "    </tr>\n",
              "    <tr>\n",
              "      <th>25%</th>\n",
              "      <td>1.180833</td>\n",
              "    </tr>\n",
              "    <tr>\n",
              "      <th>50%</th>\n",
              "      <td>2.343333</td>\n",
              "    </tr>\n",
              "    <tr>\n",
              "      <th>75%</th>\n",
              "      <td>2.995833</td>\n",
              "    </tr>\n",
              "    <tr>\n",
              "      <th>max</th>\n",
              "      <td>3.958333</td>\n",
              "    </tr>\n",
              "  </tbody>\n",
              "</table>\n",
              "</div><br><label><b>dtype:</b> float64</label>"
            ]
          },
          "metadata": {},
          "execution_count": 39
        }
      ]
    },
    {
      "cell_type": "markdown",
      "source": [
        " Gráfico: distribución de Cuentas_Diarias"
      ],
      "metadata": {
        "id": "O7rHHzvtAvex"
      }
    },
    {
      "cell_type": "code",
      "source": [
        "import seaborn as sns\n",
        "import matplotlib.pyplot as plt\n",
        "\n",
        "sns.histplot(df_expanded['Cuentas_Diarias'], bins=30, kde=True)\n",
        "plt.title('Distribución de Cuentas Diarias')\n",
        "plt.xlabel('Monto diario estimado')\n",
        "plt.ylabel('Cantidad de clientes')\n",
        "plt.show()\n"
      ],
      "metadata": {
        "colab": {
          "base_uri": "https://localhost:8080/",
          "height": 472
        },
        "id": "GRwfnU6VAvRy",
        "outputId": "187cb59e-0f50-4bfb-b4a7-c1328ad525fd"
      },
      "execution_count": null,
      "outputs": [
        {
          "output_type": "display_data",
          "data": {
            "text/plain": [
              "<Figure size 640x480 with 1 Axes>"
            ],
            "image/png": "[encoded data removed]"
          },
          "metadata": {}
        }
      ]
    },
    {
      "cell_type": "markdown",
      "source": [
        "3. Distribución de Churn\n",
        "Se analizó cómo está distribuida la variable objetivo Churn."
      ],
      "metadata": {
        "id": "SqoHZWmCAzHy"
      }
    },
    {
      "cell_type": "code",
      "source": [
        "sns.countplot(data=df_expanded, x='Churn')\n",
        "plt.title('Distribución de Evasión de Clientes')\n",
        "plt.xlabel('Churn (0 = se queda, 1 = cancela)')\n",
        "plt.show()\n"
      ],
      "metadata": {
        "colab": {
          "base_uri": "https://localhost:8080/",
          "height": 472
        },
        "id": "8s6OCkoiA0-C",
        "outputId": "000550c5-d6e4-4bec-bcf2-542e58254944"
      },
      "execution_count": null,
      "outputs": [
        {
          "output_type": "display_data",
          "data": {
            "text/plain": [
              "<Figure size 640x480 with 1 Axes>"
            ],
            "image/png": "[encoded data removed]"
          },
          "metadata": {}
        }
      ]
    },
    {
      "cell_type": "markdown",
      "source": [
        "4. Churn por variables categóricas\n",
        "Género:"
      ],
      "metadata": {
        "id": "9ZvN0NUwA4_p"
      }
    },
    {
      "cell_type": "code",
      "source": [
        "sns.countplot(data=df_expanded, x='gender', hue='Churn')\n",
        "plt.title('Churn por género')\n",
        "plt.show()\n"
      ],
      "metadata": {
        "colab": {
          "base_uri": "https://localhost:8080/",
          "height": 472
        },
        "id": "pYgk1x5zA56x",
        "outputId": "b7082321-5935-468a-bfbf-9043fcc8e435"
      },
      "execution_count": null,
      "outputs": [
        {
          "output_type": "display_data",
          "data": {
            "text/plain": [
              "<Figure size 640x480 with 1 Axes>"
            ],
            "image/png": "[encoded data removed]"
          },
          "metadata": {}
        }
      ]
    },
    {
      "cell_type": "markdown",
      "source": [
        "Tipo de contrato:"
      ],
      "metadata": {
        "id": "hrwq4bRYBAD8"
      }
    },
    {
      "cell_type": "code",
      "source": [
        "sns.countplot(data=df_expanded, x='Contract', hue='Churn')\n",
        "plt.title('Churn por tipo de contrato')\n",
        "plt.xticks(rotation=30)\n",
        "plt.show()\n"
      ],
      "metadata": {
        "colab": {
          "base_uri": "https://localhost:8080/",
          "height": 527
        },
        "id": "0KsLpcaYA9oh",
        "outputId": "766811ca-83a1-4a15-dee5-541745def71e"
      },
      "execution_count": null,
      "outputs": [
        {
          "output_type": "display_data",
          "data": {
            "text/plain": [
              "<Figure size 640x480 with 1 Axes>"
            ],
            "image/png": "[encoded data removed]"
          },
          "metadata": {}
        }
      ]
    },
    {
      "cell_type": "markdown",
      "source": [
        "Servicio de Internet:"
      ],
      "metadata": {
        "id": "OezCLA74BDI5"
      }
    },
    {
      "cell_type": "code",
      "source": [
        "sns.countplot(data=df_expanded, x='InternetService', hue='Churn')\n",
        "plt.title('Churn por tipo de Internet')\n",
        "plt.show()\n"
      ],
      "metadata": {
        "colab": {
          "base_uri": "https://localhost:8080/",
          "height": 472
        },
        "id": "hrmsKgmgA8ka",
        "outputId": "a5055ebc-5517-46e0-bc66-5335a98284ee"
      },
      "execution_count": null,
      "outputs": [
        {
          "output_type": "display_data",
          "data": {
            "text/plain": [
              "<Figure size 640x480 with 1 Axes>"
            ],
            "image/png": "[encoded data removed]"
          },
          "metadata": {}
        }
      ]
    },
    {
      "cell_type": "markdown",
      "source": [
        "5. Churn por variables numéricas\n"
      ],
      "metadata": {
        "id": "bMcOwBLnBHe8"
      }
    },
    {
      "cell_type": "markdown",
      "source": [
        "Facturación mensual:"
      ],
      "metadata": {
        "id": "jdRDt8jkBInI"
      }
    },
    {
      "cell_type": "code",
      "source": [
        "sns.boxplot(data=df_expanded, x='Churn', y='MonthlyCharges')\n",
        "plt.title('Churn vs Facturación Mensual')\n",
        "plt.show()\n"
      ],
      "metadata": {
        "colab": {
          "base_uri": "https://localhost:8080/",
          "height": 472
        },
        "id": "sADU3HzdBJYJ",
        "outputId": "e1ecc454-93ec-461d-cfaf-498258ea53f1"
      },
      "execution_count": null,
      "outputs": [
        {
          "output_type": "display_data",
          "data": {
            "text/plain": [
              "<Figure size 640x480 with 1 Axes>"
            ],
            "image/png": "[encoded data removed]"
          },
          "metadata": {}
        }
      ]
    },
    {
      "cell_type": "markdown",
      "source": [
        "Antigüedad (tenure):"
      ],
      "metadata": {
        "id": "lDL_azayBNMy"
      }
    },
    {
      "cell_type": "code",
      "source": [
        "sns.histplot(data=df_expanded, x='tenure', hue='Churn', bins=30, kde=True)\n",
        "plt.title('Churn según antigüedad del cliente')\n",
        "plt.show()\n"
      ],
      "metadata": {
        "colab": {
          "base_uri": "https://localhost:8080/",
          "height": 472
        },
        "id": "3_V1vqI4BPA7",
        "outputId": "7350736b-efe0-4484-ad15-ef1b055d3c2c"
      },
      "execution_count": null,
      "outputs": [
        {
          "output_type": "display_data",
          "data": {
            "text/plain": [
              "<Figure size 640x480 with 1 Axes>"
            ],
            "image/png": "[encoded data removed]"
          },
          "metadata": {}
        }
      ]
    },
    {
      "cell_type": "markdown",
      "source": [
        "# ***📄Informe final***"
      ],
      "metadata": {
        "id": "reEf4e-1CbC5"
      }
    },
    {
      "cell_type": "markdown",
      "source": [
        "# 🔹 **Introducción**"
      ],
      "metadata": {
        "id": "BY6AvOlYChjI"
      }
    },
    {
      "cell_type": "markdown",
      "source": [
        "La empresa Telecom X enfrenta una alta tasa de cancelación de clientes (Churn), lo cual representa una amenaza directa a su estabilidad y crecimiento. El objetivo de este proyecto fue realizar un análisis exploratorio de datos (EDA) con el fin de identificar patrones y factores asociados a la evasión, a partir de un conjunto de datos provisto en formato JSON, con información demográfica, contractual y de uso de servicios de cada cliente.\n",
        "\n",
        "El análisis fue desarrollado siguiendo el proceso ETL (Extracción, Transformación y Carga/Análisis), utilizando Python y bibliotecas como pandas, seaborn y matplotlib."
      ],
      "metadata": {
        "id": "mX3ewq71Cl44"
      }
    },
    {
      "cell_type": "markdown",
      "source": [
        "# 🔹 Limpieza y Tratamiento de Datos"
      ],
      "metadata": {
        "id": "ULt7tAhpCq2J"
      }
    },
    {
      "cell_type": "markdown",
      "source": [
        "✅ 1. Extracción:\n",
        "Los datos fueron obtenidos desde un archivo JSON alojado en GitHub y cargados exitosamente a un DataFrame de Pandas.\n",
        "\n",
        "✅ 2. Transformación:\n",
        "Se identificaron y expandieron columnas anidadas (customer, phone, internet, account) usando json_normalize().\n",
        "\n",
        "Se eliminaron duplicados y se estandarizaron textos (eliminación de espacios, conversión a minúsculas).\n",
        "\n",
        "Se renombraron columnas como Charges.Monthly → MonthlyCharges.\n",
        "\n",
        "Se convirtieron variables categóricas (“Yes”/“No”) a valores binarios (1/0).\n",
        "\n",
        "Se creó la columna Cuentas_Diarias, dividiendo MonthlyCharges entre 30, para representar el gasto promedio diario de cada cliente."
      ],
      "metadata": {
        "id": "Q5F2mWwaCtih"
      }
    },
    {
      "cell_type": "markdown",
      "source": [
        "# 🔹 Análisis Exploratorio de Datos (EDA)"
      ],
      "metadata": {
        "id": "O4qwzEZYCwJx"
      }
    },
    {
      "cell_type": "markdown",
      "source": [
        "# 📊 1. Estadísticas Generales:\n",
        "Tenure promedio: 32.3 meses\n",
        "\n",
        "Gasto mensual promedio: S/64.72\n",
        "\n",
        "Gasto diario estimado (Cuentas_Diarias): S/2.15\n",
        "\n",
        "Tasa de churn: 26.5%\n",
        "\n",
        "# 📈 2. Gráficos y Visualizaciones"
      ],
      "metadata": {
        "id": "MOdZoskyCzyZ"
      }
    },
    {
      "cell_type": "markdown",
      "source": [
        "# a. Distribución de Cuentas_Diarias"
      ],
      "metadata": {
        "id": "OCxFL-bQDJMY"
      }
    },
    {
      "cell_type": "markdown",
      "source": [
        "La mayoría de clientes gasta entre S/1.18 y S/2.99 diarios, lo cual corresponde al 50% central de la muestra.\n",
        "Además, se observa un grupo significativo de clientes con gastos por debajo de S/1.00, lo que podría indicar menor compromiso financiero con el servicio y mayor riesgo potencial de cancelación."
      ],
      "metadata": {
        "id": "vh11LFV7DKzt"
      }
    },
    {
      "cell_type": "markdown",
      "source": [
        "# b. Distribución de Churn"
      ],
      "metadata": {
        "id": "kw2TGmSCDPMY"
      }
    },
    {
      "cell_type": "markdown",
      "source": [
        "Se confirmó que 1 de cada 4 clientes aproximadamente abandona el servicio:\n",
        "\n",
        "\n",
        "\n",
        "*   0 → se queda\n",
        "*   1 → cancela\n",
        "\n",
        "\n",
        "\n"
      ],
      "metadata": {
        "id": "xWdd5SegDR6B"
      }
    },
    {
      "cell_type": "markdown",
      "source": [
        "# c. Churn por Género"
      ],
      "metadata": {
        "id": "8Z_rozncDZhx"
      }
    },
    {
      "cell_type": "markdown",
      "source": [
        "Tanto hombres como mujeres muestran tasas de churn similares, por lo que el género no parece ser un factor determinante."
      ],
      "metadata": {
        "id": "pETIzq-OD1Y4"
      }
    },
    {
      "cell_type": "markdown",
      "source": [
        "# d. Churn por Tipo de Contrato"
      ],
      "metadata": {
        "id": "Rp3HQvsvD3AX"
      }
    },
    {
      "cell_type": "markdown",
      "source": [
        "El churn se concentra claramente en clientes con contrato “month-to-month”, mientras que quienes tienen contrato anual o bianual muestran mayor retención."
      ],
      "metadata": {
        "id": "N4ZYxGRhD5pY"
      }
    },
    {
      "cell_type": "markdown",
      "source": [
        "# e. Churn por Tipo de Internet"
      ],
      "metadata": {
        "id": "wszP9tM6D8tp"
      }
    },
    {
      "cell_type": "markdown",
      "source": [
        "Los clientes con fibra óptica tienen mayor tasa de churn que los de DSL, posiblemente debido al costo o desempeño percibido."
      ],
      "metadata": {
        "id": "Nh83jdiCD9tQ"
      }
    },
    {
      "cell_type": "markdown",
      "source": [
        "# 🔹 Conclusiones e **Insights**"
      ],
      "metadata": {
        "id": "BzpguOfaD-q4"
      }
    },
    {
      "cell_type": "markdown",
      "source": [
        "\n",
        "\n",
        "*   El 26.5% de los clientes de Telecom X han cancelado su servicio.\n",
        "*   La variable tipo de contrato es el predictor más fuerte: los contratos “mes a mes” presentan mayor tasa de cancelación.\n",
        "*   La variable antigüedad (tenure) también es relevante: clientes nuevos tienen más probabilidad de irse.\n",
        "*   Aunque género no influye significativamente, el tipo de servicio y los hábitos de consumo sí lo hacen.\n",
        "*   El análisis de Cuentas_Diarias permite segmentar clientes según su nivel de gasto diario estimado.\n",
        "\n",
        "\n",
        "\n",
        "\n",
        "\n",
        "\n",
        "\n"
      ],
      "metadata": {
        "id": "MflEJkIBEItp"
      }
    },
    {
      "cell_type": "markdown",
      "source": [
        "# **Recomendaciones Estratégicas**"
      ],
      "metadata": {
        "id": "oz152bIBEgFA"
      }
    },
    {
      "cell_type": "markdown",
      "source": [
        "1. 🎯 Incentivar contratos anuales o bianuales mediante descuentos o beneficios exclusivos.\n",
        "\n",
        "2. 💬 Implementar una campaña de retención específica para clientes con contrato “month-to-month”.\n",
        "\n",
        "3. 📊 Monitorear clientes con tenure < 6 meses, ofreciendo atención personalizada o promociones especiales.\n",
        "\n",
        "4. 🧩 Revisar la experiencia de usuarios de fibra óptica, ya que representan un segmento de alto churn.\n",
        "\n",
        "5. 💡 Utilizar las variables destacadas como base para desarrollar un modelo predictivo de churn y aplicar estrategias automatizadas de prevención."
      ],
      "metadata": {
        "id": "4mzNqr9DEhWZ"
      }
    },
    {
      "cell_type": "markdown",
      "source": [],
      "metadata": {
        "id": "EVAEXOBTEq77"
      }
    }
  ]
}